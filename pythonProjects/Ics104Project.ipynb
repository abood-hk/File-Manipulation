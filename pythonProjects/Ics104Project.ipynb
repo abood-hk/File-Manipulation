{
 "cells": [
  {
   "cell_type": "markdown",
   "id": "69e75638-ba48-42bf-8a92-dd49a23d896c",
   "metadata": {},
   "source": [
    "<h1>Ics 104 project for semester 241</h>"
   ]
  },
  {
   "cell_type": "markdown",
   "id": "bd3002b9",
   "metadata": {},
   "source": [
    "Abdulrahman daher khatib 202460820"
   ]
  },
  {
   "cell_type": "markdown",
   "id": "40656055",
   "metadata": {
    "vscode": {
     "languageId": "plaintext"
    }
   },
   "source": [
    "<h2>Code</h>"
   ]
  },
  {
   "cell_type": "markdown",
   "id": "4505c55b",
   "metadata": {},
   "source": [
    "imports"
   ]
  },
  {
   "cell_type": "code",
   "execution_count": null,
   "id": "84e64ae7",
   "metadata": {},
   "outputs": [],
   "source": [
    "import time  # Importing time module for adding delays in the program execution"
   ]
  },
  {
   "cell_type": "markdown",
   "id": "88606441",
   "metadata": {},
   "source": [
    "Setting up vaariables"
   ]
  },
  {
   "cell_type": "code",
   "execution_count": null,
   "id": "e3184158",
   "metadata": {},
   "outputs": [],
   "source": [
    "students_records = dict()  # Dictionary to store student IDs and GPAs\n",
    "data = list()  # Temporary list for processing student data\n",
    "students_ids = set()  # Set to store unique student IDs\n",
    "all_data = []  # List to store all student records\n",
    "task = \"\"  # Variable to hold the current task input by the user"
   ]
  },
  {
   "cell_type": "markdown",
   "id": "46007171",
   "metadata": {},
   "source": [
    "Function to clear the screen"
   ]
  },
  {
   "cell_type": "code",
   "execution_count": null,
   "id": "4eeeb882",
   "metadata": {},
   "outputs": [],
   "source": [
    "# Function to clear the console-like effect after a delay\n",
    "def continu():\n",
    "    time.sleep(2)  # Delay for 2 seconds\n",
    "    print(\"\\n\" * 10)  # Print multiple newlines to simulate clearing the screen\n"
   ]
  },
  {
   "cell_type": "markdown",
   "id": "21d7ba0f",
   "metadata": {},
   "source": [
    "a Function to sort students record from lowest to highest based on gpa"
   ]
  },
  {
   "cell_type": "code",
   "execution_count": null,
   "id": "16f849b4",
   "metadata": {},
   "outputs": [],
   "source": [
    "# Function to sort student records by GPA\n",
    "def sort_low():\n",
    "    sorted_lines = \"\"  # String to hold sorted data\n",
    "    sorted_list = []  # List to store sorted student records\n",
    "    num_lines = -1  # Counter for the total number of lines in the file\n",
    "    with open(\"Data.txt\", \"r\") as rf:  # Open the original file for reading\n",
    "        with open(\"Data3.txt\", \"w\") as wf:  # Open a temporary file for writing sorted data\n",
    "            for line in rf.readlines():  # Read each line from the original file\n",
    "                line = line.strip()  # Remove leading/trailing whitespace\n",
    "                sorted_list.append(line.split(\" \"))  # Split line into a list and add to sorted_list\n",
    "            for i in range(len(sorted_list)):  # Bubble sort algorithm for sorting records\n",
    "                for j in range(0, len(sorted_list) - 1):\n",
    "                    if sorted_list[j][2] > sorted_list[j + 1][2]:  # Compare GPAs\n",
    "                        sorted_list[j], sorted_list[j + 1] = sorted_list[j + 1], sorted_list[j]  # Swap\n",
    "            for list in sorted_list:  # Count total lines after sorting\n",
    "                num_lines += 1\n",
    "            for i, list in enumerate(sorted_list):  # Reformat sorted data\n",
    "                if i != num_lines:\n",
    "                    sorted_lines += (\" \".join(list) + \"\\n\")\n",
    "                elif i == num_lines:\n",
    "                    sorted_lines += (\" \".join(list))\n",
    "            wf.write(sorted_lines)  # Write sorted data to the temporary file\n",
    "    with open(\"Data.txt\", \"w\") as wf:  # Replace original file content with sorted data\n",
    "        with open(\"Data3.txt\", \"r\") as rf:\n",
    "            for line in rf:\n",
    "                wf.write(line)\n",
    "    assign()  # Reassign updated data structures\n",
    "    print(\"Students records are sorted from lowest to highest based on gpa\")"
   ]
  },
  {
   "cell_type": "markdown",
   "id": "259f7c9b",
   "metadata": {},
   "source": [
    "a Function to sort students records from highest to lowest based on gpa"
   ]
  },
  {
   "cell_type": "code",
   "execution_count": null,
   "id": "a9461340",
   "metadata": {},
   "outputs": [],
   "source": [
    "# Function to sort student records by GPA\n",
    "def sort_high():\n",
    "    sorted_lines = \"\"  # String to hold sorted data\n",
    "    sorted_list = []  # List to store sorted student records\n",
    "    num_lines = -1  # Counter for the total number of lines in the file\n",
    "    with open(\"Data.txt\", \"r\") as rf:  # Open the original file for reading\n",
    "        with open(\"Data3.txt\", \"w\") as wf:  # Open a temporary file for writing sorted data\n",
    "            for line in rf.readlines():  # Read each line from the original file\n",
    "                line = line.strip()  # Remove leading/trailing whitespace\n",
    "                sorted_list.append(line.split(\" \"))  # Split line into a list and add to sorted_list\n",
    "            for i in range(len(sorted_list)):  # Bubble sort algorithm for sorting records\n",
    "                for j in range(0, len(sorted_list) - 1):\n",
    "                    if sorted_list[j][2] < sorted_list[j + 1][2]:  # Compare GPAs\n",
    "                        sorted_list[j], sorted_list[j+1] = sorted_list[j+1], sorted_list[j]  # Swap\n",
    "            for list in sorted_list:  # Count total lines after sorting\n",
    "                num_lines += 1\n",
    "            for i, list in enumerate(sorted_list):  # Reformat sorted data\n",
    "                if i != num_lines:\n",
    "                    sorted_lines += (\" \".join(list) + \"\\n\")\n",
    "                elif i == num_lines:\n",
    "                    sorted_lines += (\" \".join(list))\n",
    "            wf.write(sorted_lines)  # Write sorted data to the temporary file\n",
    "    with open(\"Data.txt\", \"w\") as wf:  # Replace original file content with sorted data\n",
    "        with open(\"Data3.txt\", \"r\") as rf:\n",
    "            for line in rf:\n",
    "                wf.write(line)\n",
    "    assign()  # Reassign updated data structures\n",
    "    print(\"Students records are sorted from highest to lowest based on gpa\")"
   ]
  },
  {
   "cell_type": "markdown",
   "id": "4f397f3e",
   "metadata": {},
   "source": [
    "a function to make sure that the id given to the modify function is valid"
   ]
  },
  {
   "cell_type": "code",
   "execution_count": null,
   "id": "cf92646e",
   "metadata": {},
   "outputs": [],
   "source": [
    "# Function to get and validate input for modifying a student ID\n",
    "def modify_input_id() -> str:\n",
    "    con = True  # Boolean for input validation loop\n",
    "    while con:\n",
    "        try:\n",
    "            modify_id = input(\"Enter the id of the student: \")\n",
    "            int(modify_id)  # Ensure input is an integer\n",
    "            assign()  # Reassign current data\n",
    "            exist = 0\n",
    "            for i in students_ids:  # Check if ID exists in the records\n",
    "                if int(modify_id) == i:\n",
    "                    exist += 1\n",
    "            if exist == 0:  # Raise exception if ID doesn't exist\n",
    "                raise Exception\n",
    "            con = False  # Break the loop if input is valid\n",
    "            return modify_id\n",
    "        except ValueError:\n",
    "            print(\"Invalid input\\nMake sure your input is an 8 digit integer\\n\")\n",
    "        except Exception:\n",
    "            print(\"Make sure the id exists in student records\\n\")\n"
   ]
  },
  {
   "cell_type": "markdown",
   "id": "ad999b91",
   "metadata": {},
   "source": [
    "a function to sure that the gpa given to the modify function is valid"
   ]
  },
  {
   "cell_type": "code",
   "execution_count": null,
   "id": "4053a590",
   "metadata": {},
   "outputs": [],
   "source": [
    "# Function to get and validate input for modifying a student's GPA\n",
    "def modify_input_gpa():\n",
    "    con = True\n",
    "    while con:\n",
    "        try:\n",
    "            modify_gpa = input(\"Enter the new gpa: \")\n",
    "            if 0 > float(modify_gpa) or float(modify_gpa) > 4:  # Validate GPA range\n",
    "                raise ValueError\n",
    "            con = False\n",
    "            modify_gpa=(f'{float(modify_gpa):.2f}') # So gpa have two decimal places\n",
    "            return modify_gpa\n",
    "        except Exception:\n",
    "            print(\"Invalid input\\nMake sure your input is a number between 0 and 4\\n\")\n"
   ]
  },
  {
   "cell_type": "markdown",
   "id": "8050003a",
   "metadata": {},
   "source": [
    "a function to make sure that the input given to the add function is valid"
   ]
  },
  {
   "cell_type": "code",
   "execution_count": null,
   "id": "50a5b965",
   "metadata": {},
   "outputs": [],
   "source": [
    "# Function to validate and input a new student record\n",
    "def add_input() -> str:\n",
    "    con = True\n",
    "    while con:\n",
    "        try:\n",
    "            # Prompt user to input name, ID, and GPA\n",
    "            newline = input(\"Enter the name, id, and gpa in this order separated by a space, following the rules:\\n\"\n",
    "                            \"- The name should be a string\\n\"\n",
    "                            \"- The id should be 8 numbers and unique\\n\"\n",
    "                            \"- The gpa should be between 0 and 4\\n\"\n",
    "                            \"Write student record: \")\n",
    "            list = newline.split(\" \")  # Split input into components\n",
    "            if list[0].isdigit():  # Check if name is valid (should not be digits)\n",
    "                raise ValueError\n",
    "            if 10000000 > int(list[1]) or int(list[1]) > 99999999:  # Validate ID\n",
    "                raise ValueError\n",
    "            if 0 > float(list[2]) or float(list[2]) > 4:  # Validate GPA\n",
    "                raise ValueError\n",
    "            assign()  # Reassign current data\n",
    "            exist = 0\n",
    "            for i in students_ids:  # Check if ID already exists\n",
    "                if int(list[1]) == i:\n",
    "                    exist += 1\n",
    "            if exist != 0:  # Raise exception for duplicate ID\n",
    "                raise Exception\n",
    "            con = False  # Input is valid, exit loop\n",
    "            return newline\n",
    "        except IndexError:  # Handle input with missing components\n",
    "            print(\"Invalid input\\nMake sure your input follows the rules\\n\")\n",
    "        except ValueError:  # Handle invalid data types or range\n",
    "            print(\"Invalid input\\nMake sure your input follows the rules\\n\")\n",
    "        except Exception:  # Handle duplicate IDs\n",
    "            print(\"Student id already exists\\n\")\n"
   ]
  },
  {
   "cell_type": "markdown",
   "id": "bfe3290d",
   "metadata": {},
   "source": [
    "a function to make sure that the input given to the remove function is valid"
   ]
  },
  {
   "cell_type": "code",
   "execution_count": null,
   "id": "5ff5e6be",
   "metadata": {},
   "outputs": [],
   "source": [
    "# Function to validate and input an ID for removal\n",
    "def remove_input() -> str:\n",
    "    con = True\n",
    "    while con:\n",
    "        try:\n",
    "            remove_line = input(\"Enter the id of the student you want to remove from the record: \")\n",
    "            int(remove_line)  # Ensure ID is an integer\n",
    "            assign()  # Reassign current data\n",
    "            exist = 0\n",
    "            for i in students_ids:  # Check if ID exists\n",
    "                if int(remove_line) == i:\n",
    "                    exist += 1\n",
    "            if exist == 0:  # Raise exception if ID doesn't exist\n",
    "                raise Exception\n",
    "            con = False  # Input is valid, exit loop\n",
    "            return remove_line\n",
    "        except ValueError:  # Handle non-integer input\n",
    "            print(\"Invalid input\\nMake sure your input is an 8-digit integer\\n\")\n",
    "        except Exception:  # Handle missing ID\n",
    "            print(\"Make sure the id exists in student records\\n\")\n"
   ]
  },
  {
   "cell_type": "markdown",
   "id": "5aca3434",
   "metadata": {},
   "source": [
    "a function to modify a student's gpa "
   ]
  },
  {
   "cell_type": "code",
   "execution_count": null,
   "id": "ade290b5",
   "metadata": {},
   "outputs": [],
   "source": [
    "# Function to modify a student's GPA in the file\n",
    "def modify():\n",
    "    modify_list = []\n",
    "    modify_id = modify_input_id()  # Get the ID to modify\n",
    "    modify_gpa = modify_input_gpa()  # Get the new GPA\n",
    "    modify_line = \"\"\n",
    "    with open(\"Data.txt\", \"r\") as rf:\n",
    "        total_lines = -1\n",
    "        for line in rf.readlines():  # Count total lines in file\n",
    "            total_lines += 1\n",
    "    with open(\"Data.txt\", \"r\") as rf:\n",
    "        with open(\"Data3.txt\", \"w\") as ddf:\n",
    "            for i, line in enumerate(rf.readlines()):\n",
    "                line = line.strip()\n",
    "                modify_list = line.split(\" \")  # Split line into components\n",
    "                if i == total_lines and modify_list[1] == modify_id:  # Modify last line\n",
    "                    modify_list[2] = modify_gpa\n",
    "                    modify_line = \" \".join(modify_list)\n",
    "                    ddf.write(modify_line)\n",
    "                elif i != total_lines and modify_list[1] == modify_id:  # Modify non-last line\n",
    "                    modify_list[2] = modify_gpa\n",
    "                    modify_line = \" \".join(modify_list)\n",
    "                    ddf.write(modify_line + \"\\n\")\n",
    "                elif i != total_lines and modify_list[1] != modify_id:  # Write unmodified non-last line\n",
    "                    ddf.write(line + \"\\n\")\n",
    "                elif i == total_lines and modify_list[1] != modify_id:  # Write unmodified last line\n",
    "                    ddf.write(line)\n",
    "    with open(\"Data.txt\", \"w\") as wf:  # Replace original file content with modified data\n",
    "        with open(\"Data3.txt\", \"r\") as rf:\n",
    "            for line in rf:\n",
    "                wf.write(line)\n",
    "    assign()  # Reassign updated data structures\n",
    "    print(modify_id + \" GPA is modified\")\n"
   ]
  },
  {
   "cell_type": "markdown",
   "id": "af79240a",
   "metadata": {},
   "source": [
    "a function to add a new record to the students' records file"
   ]
  },
  {
   "cell_type": "code",
   "execution_count": null,
   "id": "3915dfb6",
   "metadata": {},
   "outputs": [],
   "source": [
    "# Function to add a new student record\n",
    "def add():\n",
    "    newline = add_input()  # Get new student data\n",
    "    newline_list=newline.split(\" \")\n",
    "    newline_list[2]=(f'{float(newline_list[2]):.2f}')# So gpa have two decimal places\n",
    "    newline=\" \".join(newline_list)\n",
    "    with open(\"Data.txt\", \"a\") as f:\n",
    "        f.write(\"\\n\" + newline)  # Append new student record to file\n",
    "    assign()  # Reassign updated data structures\n",
    "    print(\"A new student record is added\")\n",
    "def search():\n",
    "    con = True\n",
    "    while con:\n",
    "        try:\n",
    "            search_line = input(\"Enter the id of the student: \")\n",
    "            int(search_line)  # Ensure ID is an integer\n",
    "            assign()  # Reassign current data\n",
    "            exist = 0\n",
    "            for i in students_ids:  # Check if ID exists\n",
    "                if int(search_line) == i:\n",
    "                    exist += 1\n",
    "            if exist == 0:  # Raise exception if ID doesn't exist\n",
    "                raise Exception\n",
    "            elif exist==1:\n",
    "                for i in all_data:  # Check if ID exists\n",
    "                    if i[1]==search_line:\n",
    "                        # Print the header for the student's table\n",
    "                        # \"name\", \"id\", and \"gpa\" are aligned with specific widths for better formatting\n",
    "                        print(f'{\"name\":14}{\"id\":10}{\"gpa\":12}')\n",
    "                        for j in i:\n",
    "                            # Print each field with a width of 10 characters for alignment, followed by two spaces\n",
    "                            print(f'{j:10}', end=\"  \")\n",
    "                        break\n",
    "            con = False  # Input is valid, exit loop\n",
    "\n",
    "        except ValueError:  # Handle non-integer input\n",
    "            print(\"Invalid input\\nMake sure your input is an 8-digit integer\\n\")\n",
    "        except Exception:  # Handle missing ID\n",
    "            print(\"Make sure the id exists in student records\\n\")"
   ]
  },
  {
   "cell_type": "markdown",
   "id": "7ad202d2",
   "metadata": {},
   "source": [
    "a function to remove a student record from the students' records file"
   ]
  },
  {
   "cell_type": "code",
   "execution_count": null,
   "id": "5268a182",
   "metadata": {},
   "outputs": [],
   "source": [
    "# Function to remove a student record\n",
    "def remove():\n",
    "    removeline = remove_input()  # Get ID to remove\n",
    "    removelist = []\n",
    "    with open(\"Data.txt\", \"r\") as rf:\n",
    "        total_lines = -1\n",
    "        for line in rf.readlines():  # Count total lines in file\n",
    "            total_lines += 1\n",
    "    with open(\"Data.txt\", \"r\") as rf:\n",
    "        with open(\"Data3.txt\", \"w\") as ddf:\n",
    "            for i, line in enumerate(rf.readlines()):\n",
    "                line = line.strip()\n",
    "                removelist = line.split(\" \")  # Split line into components\n",
    "                if removelist[1] != removeline and i == total_lines:  # Skip last line to remove\n",
    "                    ddf.write(line)\n",
    "                elif removelist[1] == removeline and i == total_lines:  # Remove last line\n",
    "                    ddf.write(\"\".strip())\n",
    "                elif removelist[1] != removeline and i != total_lines:  # Write non-last line\n",
    "                    ddf.write(line + \"\\n\")\n",
    "    with open(\"Data.txt\", \"w\") as wf:  # Replace original file with updated data\n",
    "        with open(\"Data3.txt\", \"r\") as rf:\n",
    "            total_lines -= 1\n",
    "            for i, line in enumerate(rf):\n",
    "                if i == total_lines:\n",
    "                    wf.write(line.strip())\n",
    "                elif i != total_lines:\n",
    "                    wf.write(line)\n",
    "    assign()  # Reassign updated data structures\n",
    "    print(removeline + \" Info was deleted\")\n"
   ]
  },
  {
   "cell_type": "markdown",
   "id": "bb3510d4",
   "metadata": {},
   "source": [
    "a function to assign the values from the file to data structures"
   ]
  },
  {
   "cell_type": "code",
   "execution_count": 17,
   "id": "69c506ad",
   "metadata": {},
   "outputs": [],
   "source": [
    "# Function to reassign all data structures from the file\n",
    "def assign():\n",
    "    sf = open(\"Data.txt\", \"r\")  # Open the file to ensure its existence\n",
    "    sf.close()\n",
    "    with open(\"Data.txt\", \"r\") as f:\n",
    "        for line in f.readlines():  # Read each line and populate data structures\n",
    "            line = line.strip()\n",
    "            all_data.append(line.split(\" \"))  # Store all data as a list of lists\n",
    "            data = line.split(\" \")\n",
    "            name = data[0]\n",
    "            id = int(data[1])\n",
    "            gpa = float(data[2])\n",
    "            students_ids.add(id)  # Add student ID to set\n",
    "            students_records[id] = gpa  # Add student ID and GPA to dictionary\n"
   ]
  },
  {
   "cell_type": "markdown",
   "id": "45cc7ed2",
   "metadata": {},
   "source": [
    "intialize data strucures with data from the file"
   ]
  },
  {
   "cell_type": "code",
   "execution_count": null,
   "id": "9e617563",
   "metadata": {},
   "outputs": [],
   "source": [
    "# Initialize data structures with file content\n",
    "assign()"
   ]
  },
  {
   "cell_type": "markdown",
   "id": "491e9446",
   "metadata": {},
   "source": [
    "Main program loop"
   ]
  },
  {
   "cell_type": "code",
   "execution_count": null,
   "id": "e3339d07",
   "metadata": {},
   "outputs": [],
   "source": [
    "# Main program loop\n",
    "while True:\n",
    "    print(\"- Choose what operation you want to make or write exit if you do not want to make any\")\n",
    "    print(\"- Write a to add a record\")\n",
    "    print(\"- Write r to remove a record\")\n",
    "    print(\"- Write m to modify a record\")\n",
    "    print(\"- Write l to sort the from lowest to highest record\")\n",
    "    print(\"- Write h to sort the from highest to lowest record\")\n",
    "    print(\"- Write s to search for a record\")\n",
    "    task = input()\n",
    "    if task.lower() == \"m\":  # Modify record\n",
    "        modify()\n",
    "        continu()\n",
    "    elif task.lower() == \"a\":  # Add record\n",
    "        add()\n",
    "        continu()\n",
    "    elif task.lower() == \"r\":  # Remove record\n",
    "        remove()\n",
    "        continu()\n",
    "    elif task.lower() == \"l\":  # Sort records\n",
    "        sort_low()\n",
    "        continu()\n",
    "    elif task.lower() == \"h\":  # Sort records\n",
    "        sort_high()\n",
    "        continu()\n",
    "    elif task.lower() == \"s\":  # Sort records\n",
    "        search()\n",
    "        continu()\n",
    "    elif task.lower() == \"exit\":  # Exit program\n",
    "        students_records = dict()\n",
    "        data = list()\n",
    "        students_ids = set()\n",
    "        all_data = []\n",
    "        assign()  # Reassingning data structures\n",
    "        break\n",
    "    else:\n",
    "        print(\"Invalid input\")\n",
    "        continu()\n"
   ]
  },
  {
   "cell_type": "markdown",
   "id": "17dc609e",
   "metadata": {},
   "source": [
    "Prints the values of the data structures after the program finishes running"
   ]
  },
  {
   "cell_type": "code",
   "execution_count": null,
   "id": "45a56a55",
   "metadata": {},
   "outputs": [],
   "source": [
    "# Print the header for the students' records table\n",
    "# \"name\", \"id\", and \"gpa\" are aligned with specific widths for better formatting\n",
    "print(f'These are the students records :\\n{\"name\":14}{\"id\":10}{\"gpa\":12}')\n",
    "\n",
    "# Loop through each student record in the `all_data` list\n",
    "for i in all_data:\n",
    "    # Loop through each field (name, id, gpa) in the student record\n",
    "    for j in i:\n",
    "        # Print each field with a width of 10 characters for alignment, followed by two spaces\n",
    "        print(f'{j:10}', end=\"  \")\n",
    "    # Print a newline after all fields for a student are printed\n",
    "    print()"
   ]
  }
 ],
 "metadata": {
  "kernelspec": {
   "display_name": ".venv",
   "language": "python",
   "name": "python3"
  },
  "language_info": {
   "codemirror_mode": {
    "name": "ipython",
    "version": 3
   },
   "file_extension": ".py",
   "mimetype": "text/x-python",
   "name": "python",
   "nbconvert_exporter": "python",
   "pygments_lexer": "ipython3",
   "version": "3.12.3"
  }
 },
 "nbformat": 4,
 "nbformat_minor": 5
}
